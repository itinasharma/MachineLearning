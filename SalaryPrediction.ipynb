{
  "nbformat": 4,
  "nbformat_minor": 0,
  "metadata": {
    "colab": {
      "provenance": [],
      "authorship_tag": "ABX9TyOaPCZcl1DtX5GpsK4yKOE8",
      "include_colab_link": true
    },
    "kernelspec": {
      "name": "python3",
      "display_name": "Python 3"
    },
    "language_info": {
      "name": "python"
    }
  },
  "cells": [
    {
      "cell_type": "markdown",
      "metadata": {
        "id": "view-in-github",
        "colab_type": "text"
      },
      "source": [
        "<a href=\"https://colab.research.google.com/github/itinasharma/MachineLearning/blob/main/SalaryPrediction.ipynb\" target=\"_parent\"><img src=\"https://colab.research.google.com/assets/colab-badge.svg\" alt=\"Open In Colab\"/></a>"
      ]
    },
    {
      "cell_type": "markdown",
      "source": [
        "# Predicting Salary Based on Years of Experience\n",
        "\n",
        "In this section, we will use a simple linear regression model to predict the salary based on the years of experience. The dataset contains two columns: **YearsExperience** and **Salary**.\n",
        "\n",
        "### Steps:\n",
        "1. **Import Necessary Libraries**: We will import the required libraries for data manipulation and modeling.\n",
        "2. **Load the Dataset**: The salary dataset will be loaded from a CSV file.\n",
        "3. **Preprocess the Data**: We will prepare the data for training by separating features (X) and target variable (Y).\n",
        "4. **Train the Model**: A linear regression model will be fitted using the training data.\n",
        "5. **Make Predictions**: We will input new values (e.g., years of experience) to predict corresponding salaries.\n",
        "\n",
        "\n"
      ],
      "metadata": {
        "id": "9Yotpym7V-nm"
      }
    },
    {
      "cell_type": "code",
      "execution_count": 10,
      "metadata": {
        "colab": {
          "base_uri": "https://localhost:8080/"
        },
        "id": "7NjKMBsEVaHI",
        "outputId": "7dbe7cdb-01b0-4bb6-d361-793ea937c8b8"
      },
      "outputs": [
        {
          "output_type": "stream",
          "name": "stdout",
          "text": [
            "   Unnamed: 0  YearsExperience   Salary\n",
            "0           0              1.2  39344.0\n",
            "1           1              1.4  46206.0\n",
            "2           2              1.6  37732.0\n",
            "3           3              2.1  43526.0\n",
            "4           4              2.3  39892.0\n"
          ]
        }
      ],
      "source": [
        "# 1. Import Necessary Libraries\n",
        "import pandas as pd\n",
        "\n",
        "\n",
        "# 2. Load the Data\n",
        "file_path = '/content/sample_data/Salary_dataset.csv'\n",
        "# Define the column names\n",
        "columns = [\n",
        "    'YearsExperience',      # Number of years of professional experience\n",
        "    'Salary'                # Corresponding annual salary\n",
        "]\n",
        "df = pd.read_csv(file_path)\n",
        "\n",
        "# If the file doesn't have headers, you can manually assign the column names:\n",
        "# df = pd.read_csv(file_path, header=None, names=columns)\n",
        "\n",
        "# Display the first few rows of the DataFrame\n",
        "print(df.head())"
      ]
    },
    {
      "cell_type": "code",
      "source": [
        "from sklearn.preprocessing import StandardScaler\n",
        "# Initialize the scaler\n",
        "scaler = StandardScaler()\n",
        "\n",
        "# Normalize the relevant columns\n",
        "normalized_data = scaler.fit_transform(df[['YearsExperience', 'Salary']])\n",
        "\n",
        "# Create a new DataFrame with normalized data\n",
        "normalized_df = pd.DataFrame(normalized_data, columns=['YearsExperience', 'Salary'])\n",
        "\n",
        "# Display the normalized DataFrame\n",
        "print(\"\\nNormalized Data:\")\n",
        "print(normalized_df)"
      ],
      "metadata": {
        "colab": {
          "base_uri": "https://localhost:8080/"
        },
        "id": "GOFikfMkYh9r",
        "outputId": "3bc4da29-6310-40aa-de4c-715f55974198"
      },
      "execution_count": 22,
      "outputs": [
        {
          "output_type": "stream",
          "name": "stdout",
          "text": [
            "\n",
            "Normalized Data:\n",
            "    YearsExperience    Salary\n",
            "0         -1.510053 -1.360113\n",
            "1         -1.438373 -1.105527\n",
            "2         -1.366693 -1.419919\n",
            "3         -1.187494 -1.204957\n",
            "4         -1.115814 -1.339781\n",
            "5         -0.864935 -0.718307\n",
            "6         -0.829096 -0.588158\n",
            "7         -0.757416 -0.799817\n",
            "8         -0.757416 -0.428810\n",
            "9         -0.578216 -0.698013\n",
            "10        -0.506537 -0.474333\n",
            "11        -0.470697 -0.749769\n",
            "12        -0.470697 -0.706620\n",
            "13        -0.434857 -0.702020\n",
            "14        -0.291498 -0.552504\n",
            "15        -0.148138 -0.299217\n",
            "16        -0.076458 -0.370043\n",
            "17        -0.004779  0.262859\n",
            "18         0.210261  0.198860\n",
            "19         0.246100  0.665476\n",
            "20         0.532819  0.583780\n",
            "21         0.640339  0.826233\n",
            "22         0.927058  0.938611\n",
            "23         1.034577  1.402741\n",
            "24         1.213777  1.240203\n",
            "25         1.321296  1.097402\n",
            "26         1.500496  1.519868\n",
            "27         1.536336  1.359074\n",
            "28         1.787215  1.721028\n",
            "29         1.858894  1.701773\n"
          ]
        }
      ]
    },
    {
      "cell_type": "code",
      "source": [
        "X = df['YearsExperience']  # Features\n",
        "Y = df['Salary']"
      ],
      "metadata": {
        "id": "cZtM8eLNZP4P"
      },
      "execution_count": 17,
      "outputs": []
    },
    {
      "cell_type": "code",
      "source": [
        "from sklearn.linear_model import LinearRegression\n",
        "import matplotlib.pyplot as plt\n",
        "import numpy as np\n",
        "\n",
        "model = LinearRegression()\n",
        "# Reshape X to be a 2D array\n",
        "X = df['YearsExperience'].values.reshape(-1, 1)\n",
        "model.fit(X, Y)\n",
        "print (\"c \", model.intercept_)\n",
        "print (\"m \",model.coef_)"
      ],
      "metadata": {
        "colab": {
          "base_uri": "https://localhost:8080/"
        },
        "id": "HJhdjW6xZebA",
        "outputId": "f25eec5c-033c-4125-ba57-c24210025d9d"
      },
      "execution_count": 19,
      "outputs": [
        {
          "output_type": "stream",
          "name": "stdout",
          "text": [
            "c  24848.203966523193\n",
            "m  [9449.96232146]\n"
          ]
        }
      ]
    },
    {
      "cell_type": "code",
      "source": [
        "y_pred = model.predict([[2]])\n",
        "print(y_pred)"
      ],
      "metadata": {
        "colab": {
          "base_uri": "https://localhost:8080/"
        },
        "id": "8TYHCbbtZiiJ",
        "outputId": "a95759af-8036-4cf1-8322-71e6211cd0c1"
      },
      "execution_count": 21,
      "outputs": [
        {
          "output_type": "stream",
          "name": "stdout",
          "text": [
            "[43748.12860943]\n"
          ]
        }
      ]
    }
  ]
}