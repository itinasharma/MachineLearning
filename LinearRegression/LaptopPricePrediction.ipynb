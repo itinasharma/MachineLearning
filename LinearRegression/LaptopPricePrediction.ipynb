{
  "nbformat": 4,
  "nbformat_minor": 0,
  "metadata": {
    "colab": {
      "provenance": [],
      "authorship_tag": "ABX9TyPjAgHysIXb5a78s8ji0BAM",
      "include_colab_link": true
    },
    "kernelspec": {
      "name": "python3",
      "display_name": "Python 3"
    },
    "language_info": {
      "name": "python"
    }
  },
  "cells": [
    {
      "cell_type": "markdown",
      "metadata": {
        "id": "view-in-github",
        "colab_type": "text"
      },
      "source": [
        "<a href=\"https://colab.research.google.com/github/itinasharma/MachineLearning/blob/main/LaptopPricePrediction.ipynb\" target=\"_parent\"><img src=\"https://colab.research.google.com/assets/colab-badge.svg\" alt=\"Open In Colab\"/></a>"
      ]
    },
    {
      "cell_type": "markdown",
      "source": [
        "## Laptop Price Prediction using Linear Regression\n",
        "\n",
        "This notebook demonstrates how to predict laptop prices based on various features such as company, screen size, CPU type, and more using **Linear Regression**. We'll follow these steps:\n",
        "1. **Load the Data**\n",
        "2. **Preprocess the Data**\n",
        "3. **Encode Categorical Features**\n",
        "4. **Train a Linear Regression Model**\n",
        "5. **Make Predictions**\n"
      ],
      "metadata": {
        "id": "KT9Mj-6LHoA9"
      }
    },
    {
      "cell_type": "code",
      "execution_count": null,
      "metadata": {
        "colab": {
          "base_uri": "https://localhost:8080/"
        },
        "id": "jiTHWNu2SDmJ",
        "outputId": "a1d4afd1-517d-46f8-8a57-e01320c9716c"
      },
      "outputs": [
        {
          "output_type": "stream",
          "name": "stdout",
          "text": [
            "  Company      Product   TypeName  Inches                    ScreenResolution  \\\n",
            "0   Apple  MacBook Pro  Ultrabook    13.3  IPS Panel Retina Display 2560x1600   \n",
            "1   Apple  Macbook Air  Ultrabook    13.3                            1440x900   \n",
            "2      HP       250 G6   Notebook    15.6                   Full HD 1920x1080   \n",
            "3   Apple  MacBook Pro  Ultrabook    15.4  IPS Panel Retina Display 2880x1800   \n",
            "4   Apple  MacBook Pro  Ultrabook    13.3  IPS Panel Retina Display 2560x1600   \n",
            "\n",
            "  CPU_Company       CPU_Type  CPU_Frequency (GHz)  RAM (GB)  \\\n",
            "0       Intel        Core i5                  2.3         8   \n",
            "1       Intel        Core i5                  1.8         8   \n",
            "2       Intel  Core i5 7200U                  2.5         8   \n",
            "3       Intel        Core i7                  2.7        16   \n",
            "4       Intel        Core i5                  3.1         8   \n",
            "\n",
            "                Memory GPU_Company                GPU_Type  OpSys  \\\n",
            "0            128GB SSD       Intel  Iris Plus Graphics 640  macOS   \n",
            "1  128GB Flash Storage       Intel        HD Graphics 6000  macOS   \n",
            "2            256GB SSD       Intel         HD Graphics 620  No OS   \n",
            "3            512GB SSD         AMD          Radeon Pro 455  macOS   \n",
            "4            256GB SSD       Intel  Iris Plus Graphics 650  macOS   \n",
            "\n",
            "   Weight (kg)  Price (Euro)  \n",
            "0         1.37       1339.69  \n",
            "1         1.34        898.94  \n",
            "2         1.86        575.00  \n",
            "3         1.83       2537.45  \n",
            "4         1.37       1803.60  \n"
          ]
        }
      ],
      "source": [
        "\n",
        "\n",
        "import pandas as pd\n",
        "\n",
        "\n",
        "file_path = '/content/mydata/laptop_price.csv'\n",
        "\n",
        "# Define the column names\n",
        "columns = [\n",
        "    'Company',                # Laptop manufacturer (categorical)\n",
        "    'Product',                # Brand and Model (categorical)\n",
        "    'TypeName',               # Type (Notebook, Ultrabook, Gaming, etc.) (categorical)\n",
        "    'Inches',                 # Screen Size (numerical - float)\n",
        "    'ScreenResolution',       # Screen Resolution (categorical)\n",
        "    'CPU_Company',            # CPU manufacturer (categorical)\n",
        "    'CPU_Type',               # CPU type (categorical)\n",
        "    'CPU_Frequency',          # CPU Frequency (GHz) (numerical - float)\n",
        "    'RAM (GB)',               # Laptop RAM (numerical - int)\n",
        "    'Memory',                 # Hard Disk / SSD Memory (categorical)\n",
        "    'GPU_Company',            # GPU manufacturer (categorical)\n",
        "    'GPU_Type',               # GPU type (categorical)\n",
        "    'OpSys',                  # Operating System (categorical)\n",
        "    'Weight (kg)',            # Laptop Weight (kg) (numerical - float)\n",
        "    'Price (Euro)'            # Laptop price (Euro) (numerical - float)\n",
        "]\n",
        "\n",
        "df = pd.read_csv(file_path)\n",
        "\n",
        "# If the file doesn't have headers, you can manually assign the column names:\n",
        "# df = pd.read_csv(file_path, header=None, names=columns)\n",
        "\n",
        "# Display the first few rows of the DataFrame\n",
        "print(df.head())"
      ]
    },
    {
      "cell_type": "code",
      "source": [
        "from sklearn.preprocessing import LabelEncoder\n",
        "label_encoder = LabelEncoder()\n",
        "\n",
        "for column in ['Company', 'Product', 'TypeName', 'ScreenResolution', 'CPU_Company', 'CPU_Type',\n",
        "               'Memory', 'GPU_Company', 'GPU_Type', 'OpSys']:\n",
        "    df[column] = label_encoder.fit_transform(df[column])\n",
        "\n",
        "print(df.head())"
      ],
      "metadata": {
        "colab": {
          "base_uri": "https://localhost:8080/"
        },
        "id": "QbgKVqF4Xfko",
        "outputId": "085d92c5-c9b1-4f3f-d815-8f200690d194"
      },
      "execution_count": null,
      "outputs": [
        {
          "output_type": "stream",
          "name": "stdout",
          "text": [
            "   Company  Product  TypeName  Inches  ScreenResolution  CPU_Company  \\\n",
            "0        1      300         4    13.3                23            1   \n",
            "1        1      301         4    13.3                 1            1   \n",
            "2        7       50         3    15.6                 8            1   \n",
            "3        1      300         4    15.4                25            1   \n",
            "4        1      300         4    13.3                23            1   \n",
            "\n",
            "   CPU_Type  CPU_Frequency (GHz)  RAM (GB)  Memory  GPU_Company  GPU_Type  \\\n",
            "0        40                  2.3         8       4            2        56   \n",
            "1        40                  1.8         8       2            2        50   \n",
            "2        46                  2.5         8      16            2        52   \n",
            "3        54                  2.7        16      29            0        76   \n",
            "4        40                  3.1         8      16            2        57   \n",
            "\n",
            "   OpSys  Weight (kg)  Price (Euro)  \n",
            "0      8         1.37       1339.69  \n",
            "1      8         1.34        898.94  \n",
            "2      4         1.86        575.00  \n",
            "3      8         1.83       2537.45  \n",
            "4      8         1.37       1803.60  \n"
          ]
        }
      ]
    },
    {
      "cell_type": "code",
      "source": [
        "X = df.drop('Price (Euro)', axis=1)  # Features\n",
        "Y = df['Price (Euro)']\n",
        "\n"
      ],
      "metadata": {
        "colab": {
          "base_uri": "https://localhost:8080/"
        },
        "id": "FkBwwVcVXzHW",
        "outputId": "c005a9a6-e7ad-41c9-c382-f1128865820d"
      },
      "execution_count": null,
      "outputs": [
        {
          "output_type": "stream",
          "name": "stdout",
          "text": [
            "      Company  Product  TypeName  Inches  ScreenResolution  CPU_Company  \\\n",
            "0           1      300         4    13.3                23            1   \n",
            "1           1      301         4    13.3                 1            1   \n",
            "2           7       50         3    15.6                 8            1   \n",
            "3           1      300         4    15.4                25            1   \n",
            "4           1      300         4    13.3                23            1   \n",
            "...       ...      ...       ...     ...               ...          ...   \n",
            "1270       10      580         0    14.0                13            1   \n",
            "1271       10      588         0    13.3                19            1   \n",
            "1272       10      196         3    14.0                 0            1   \n",
            "1273        7        2         3    15.6                 0            1   \n",
            "1274        2      568         3    15.6                 0            1   \n",
            "\n",
            "      CPU_Type  CPU_Frequency (GHz)  RAM (GB)  Memory  GPU_Company  GPU_Type  \\\n",
            "0           40                  2.3         8       4            2        56   \n",
            "1           40                  1.8         8       2            2        50   \n",
            "2           46                  2.5         8      16            2        52   \n",
            "3           54                  2.7        16      29            0        76   \n",
            "4           40                  3.1         8      16            2        57   \n",
            "...        ...                  ...       ...     ...          ...       ...   \n",
            "1270        55                  2.5         4       4            2        46   \n",
            "1271        55                  2.5        16      29            2        46   \n",
            "1272        20                  1.6         2      35            2        39   \n",
            "1273        55                  2.5         6      10            0        88   \n",
            "1274        20                  1.6         4      26            2        39   \n",
            "\n",
            "      OpSys  Weight (kg)  \n",
            "0         8         1.37  \n",
            "1         8         1.34  \n",
            "2         4         1.86  \n",
            "3         8         1.83  \n",
            "4         8         1.37  \n",
            "...     ...          ...  \n",
            "1270      5         1.80  \n",
            "1271      5         1.30  \n",
            "1272      5         1.50  \n",
            "1273      5         2.19  \n",
            "1274      5         2.20  \n",
            "\n",
            "[1275 rows x 14 columns]\n"
          ]
        }
      ]
    },
    {
      "cell_type": "code",
      "source": [
        "from sklearn.linear_model import LinearRegression\n",
        "import matplotlib.pyplot as plt\n",
        "import numpy as np\n",
        "\n",
        "model = LinearRegression()\n",
        "model.fit(X, Y)\n",
        "print (\"c \", model.intercept_)\n",
        "print (\"m \",model.coef_)"
      ],
      "metadata": {
        "colab": {
          "base_uri": "https://localhost:8080/"
        },
        "id": "85rliyDTYqXQ",
        "outputId": "ba55b201-59c3-4d55-9e73-3e8246e19603"
      },
      "execution_count": null,
      "outputs": [
        {
          "output_type": "stream",
          "name": "stdout",
          "text": [
            "c  -613.3850461940622\n",
            "m  [ 9.12925315e+00  1.69894585e-01  3.87749266e+01 -9.01492612e+01\n",
            "  9.20822266e+00  1.40831496e+02  5.23312717e+00  2.72951672e+02\n",
            "  7.48179402e+01  7.02681776e+00  1.04960078e+02  2.89487002e+00\n",
            "  8.54856806e+01  1.33035284e+02]\n"
          ]
        }
      ]
    },
    {
      "cell_type": "code",
      "source": [
        "y_pred = model.predict([[1,50,3.13,3,8,1,20,1.6,16,12,2,56,8,1.50]])\n",
        "print(y_pred)"
      ],
      "metadata": {
        "colab": {
          "base_uri": "https://localhost:8080/"
        },
        "id": "H-bfi-ouZA_2",
        "outputId": "788c4047-325f-4e89-db12-968e2bfc09d5"
      },
      "execution_count": null,
      "outputs": [
        {
          "output_type": "stream",
          "name": "stdout",
          "text": [
            "[2547.91927254]\n"
          ]
        },
        {
          "output_type": "stream",
          "name": "stderr",
          "text": [
            "/usr/local/lib/python3.10/dist-packages/sklearn/base.py:465: UserWarning: X does not have valid feature names, but LinearRegression was fitted with feature names\n",
            "  warnings.warn(\n"
          ]
        }
      ]
    }
  ]
}
