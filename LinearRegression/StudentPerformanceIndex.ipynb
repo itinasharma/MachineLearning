{
  "nbformat": 4,
  "nbformat_minor": 0,
  "metadata": {
    "colab": {
      "provenance": [],
      "authorship_tag": "ABX9TyPpnJ0mgkQrazs7jO509FAn",
      "include_colab_link": true
    },
    "kernelspec": {
      "name": "python3",
      "display_name": "Python 3"
    },
    "language_info": {
      "name": "python"
    }
  },
  "cells": [
    {
      "cell_type": "markdown",
      "metadata": {
        "id": "view-in-github",
        "colab_type": "text"
      },
      "source": [
        "<a href=\"https://colab.research.google.com/github/itinasharma/MachineLearning/blob/main/StudentPerformanceIndex.ipynb\" target=\"_parent\"><img src=\"https://colab.research.google.com/assets/colab-badge.svg\" alt=\"Open In Colab\"/></a>"
      ]
    },
    {
      "cell_type": "markdown",
      "source": [
        "# Student Performance Prediction Overview\n",
        "\n",
        "In this notebook, we developed a predictive model to estimate student performance based on several key factors:\n",
        "\n",
        "1. **Data Loading**: We loaded a dataset containing information about students' study habits, previous scores, and extracurricular activities.\n",
        "\n",
        "2. **Data Preprocessing**: Categorical variables were encoded into numerical format to prepare the data for analysis.\n",
        "\n",
        "3. **Feature Selection**: We identified the relevant features (e.g., hours studied, previous scores) and the target variable (performance index).\n",
        "\n",
        "4. **Model Training**: A linear regression model was trained using the prepared dataset.\n",
        "\n",
        "5. **Making Predictions**: We used the trained model to predict the performance index for new student data.\n",
        "\n",
        "6. **Model Evaluation**: The model's performance was assessed using Mean Squared Error (MSE) to understand its accuracy.\n",
        "\n",
        "This workflow illustrates how various academic factors can influence student performance, enabling targeted interventions for improvement.\n"
      ],
      "metadata": {
        "id": "xdNsiiiSNfd4"
      }
    },
    {
      "cell_type": "code",
      "execution_count": 3,
      "metadata": {
        "colab": {
          "base_uri": "https://localhost:8080/"
        },
        "id": "AQEGaXgQ6Fqk",
        "outputId": "68a94eda-7ae0-46a1-c0af-80fcc002bb5e"
      },
      "outputs": [
        {
          "output_type": "stream",
          "name": "stdout",
          "text": [
            "   Hours Studied  Previous Scores Extracurricular Activities  Sleep Hours  \\\n",
            "0              7               99                        Yes            9   \n",
            "1              4               82                         No            4   \n",
            "2              8               51                        Yes            7   \n",
            "3              5               52                        Yes            5   \n",
            "4              7               75                         No            8   \n",
            "\n",
            "   Sample Question Papers Practiced  Performance Index  \n",
            "0                                 1               91.0  \n",
            "1                                 2               65.0  \n",
            "2                                 2               45.0  \n",
            "3                                 2               36.0  \n",
            "4                                 5               66.0  \n"
          ]
        }
      ],
      "source": [
        "# 1. Import Necessary Libraries\n",
        "import pandas as pd\n",
        "\n",
        "\n",
        "# 2. Load the Data\n",
        "file_path = '/content/sample_data/Student_Performance.csv'\n",
        "\n",
        "# Define the column names\n",
        "columns = [\n",
        "    'Hours_Studied',                # Total hours spent studying (numerical)\n",
        "    'Previous_Scores',              # Scores from previous tests (numerical)\n",
        "    'Extracurricular_Activities',   # Participation in extracurricular activities (categorical)\n",
        "    'Sleep_Hours',                  # Average sleep hours per day (numerical)\n",
        "    'Sample_Question_Papers_Practiced',  # Number of question papers practiced (numerical)\n",
        "    'Performance_Index'             # Target variable (numerical)\n",
        "]\n",
        "\n",
        "df = pd.read_csv(file_path)\n",
        "\n",
        "# If the file doesn't have headers, you can manually assign the column names:\n",
        "# df = pd.read_csv(file_path, header=None, names=columns)\n",
        "\n",
        "# Display the first few rows of the DataFrame\n",
        "print(df.head())\n"
      ]
    },
    {
      "cell_type": "code",
      "source": [
        "from sklearn.preprocessing import StandardScaler\n",
        "numerical_columns = ['Hours Studied', 'Previous Scores','Extracurricular Activities', 'Sleep Hours',\n",
        "                     'Sample Question Papers Practiced', 'Performance Index']\n",
        "normalized_data = scaler.fit_transform(df[numerical_columns])\n",
        "\n",
        "# Create a new DataFrame with normalized data\n",
        "normalized_df = pd.DataFrame(normalized_data, columns=numerical_columns)\n",
        "\n",
        "# Add the categorical column back to the normalized DataFrame\n",
        "normalized_df['Extracurricular_Activities'] = df['Extracurricular Activities']\n",
        "\n",
        "# Display the normalized DataFrame\n",
        "print(\"\\nNormalized Data:\")\n",
        "print(normalized_df.head())"
      ],
      "metadata": {
        "colab": {
          "base_uri": "https://localhost:8080/"
        },
        "id": "79r8H_oIQy8g",
        "outputId": "85ed7eae-049e-4588-9c7d-e9fe37227875"
      },
      "execution_count": 10,
      "outputs": [
        {
          "output_type": "stream",
          "name": "stdout",
          "text": [
            "\n",
            "Normalized Data:\n",
            "   Hours Studied  Previous Scores  Extracurricular Activities  Sleep Hours  \\\n",
            "0       0.775188         1.704176                    1.010455     1.456205   \n",
            "1      -0.383481         0.723913                   -0.989654    -1.492294   \n",
            "2       1.161410        -1.063626                    1.010455     0.276805   \n",
            "3       0.002742        -1.005963                    1.010455    -0.902594   \n",
            "4       0.775188         0.320275                   -0.989654     0.866505   \n",
            "\n",
            "   Sample Question Papers Practiced  Performance Index  \\\n",
            "0                         -1.249754           1.862167   \n",
            "1                         -0.900982           0.508818   \n",
            "2                         -0.900982          -0.532220   \n",
            "3                         -0.900982          -1.000687   \n",
            "4                          0.145333           0.560870   \n",
            "\n",
            "   Extracurricular_Activities  \n",
            "0                           1  \n",
            "1                           0  \n",
            "2                           1  \n",
            "3                           1  \n",
            "4                           0  \n"
          ]
        }
      ]
    },
    {
      "cell_type": "code",
      "source": [
        "# Define features (X) and target (Y)\n",
        "X = df[['Hours Studied', 'Previous Scores', 'Extracurricular Activities',\n",
        "        'Sleep Hours', 'Sample Question Papers Practiced','Performance Index']]  # Features\n",
        "\n",
        "# Y should not be present in the dataset initially since it's being predicted.\n",
        "# For training purposes, Y would be the actual performance index for a dataset where it's available.\n",
        "# Y = df['Performance Index']  # Target\n"
      ],
      "metadata": {
        "id": "GeG6W6AURmfs"
      },
      "execution_count": 12,
      "outputs": []
    },
    {
      "cell_type": "code",
      "source": [
        "X = df.drop('Performance Index', axis=1)  # Features\n",
        "Y = df['Performance Index']\n"
      ],
      "metadata": {
        "id": "qhfBGKdQS7-q"
      },
      "execution_count": 15,
      "outputs": []
    },
    {
      "cell_type": "code",
      "source": [
        "from sklearn.linear_model import LinearRegression\n",
        "import matplotlib.pyplot as plt\n",
        "import numpy as np\n",
        "\n",
        "model = LinearRegression()\n",
        "model.fit(X, Y)\n",
        "print (\"c \", model.intercept_)\n",
        "print (\"m \",model.coef_)"
      ],
      "metadata": {
        "colab": {
          "base_uri": "https://localhost:8080/"
        },
        "id": "ucvrX126TA93",
        "outputId": "9be947b1-8b3a-43f4-ff2c-163502950cc2"
      },
      "execution_count": 16,
      "outputs": [
        {
          "output_type": "stream",
          "name": "stdout",
          "text": [
            "c  1.4370006738287273\n",
            "m  [2.85298205 1.01843419 0.61289758 0.48055975 0.19380214]\n"
          ]
        }
      ]
    },
    {
      "cell_type": "code",
      "source": [
        "y_pred = model.predict([[0.775188, 1.704176, 1.010455, 1.456205, -1.249754]])\n",
        "print(y_pred)"
      ],
      "metadata": {
        "colab": {
          "base_uri": "https://localhost:8080/"
        },
        "id": "FNXFjNnaTmCp",
        "outputId": "a14618b3-c1b9-4676-8916-0f501f408a15"
      },
      "execution_count": 17,
      "outputs": [
        {
          "output_type": "stream",
          "name": "stdout",
          "text": [
            "[6.46108318]\n"
          ]
        },
        {
          "output_type": "stream",
          "name": "stderr",
          "text": [
            "/usr/local/lib/python3.10/dist-packages/sklearn/base.py:465: UserWarning: X does not have valid feature names, but LinearRegression was fitted with feature names\n",
            "  warnings.warn(\n"
          ]
        }
      ]
    }
  ]
}
