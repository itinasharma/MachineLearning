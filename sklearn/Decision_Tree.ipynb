{
  "nbformat": 4,
  "nbformat_minor": 0,
  "metadata": {
    "colab": {
      "provenance": [],
      "authorship_tag": "ABX9TyMJQli1svQ4lMYewVnQyKcO",
      "include_colab_link": true
    },
    "kernelspec": {
      "name": "python3",
      "display_name": "Python 3"
    },
    "language_info": {
      "name": "python"
    }
  },
  "cells": [
    {
      "cell_type": "markdown",
      "metadata": {
        "id": "view-in-github",
        "colab_type": "text"
      },
      "source": [
        "<a href=\"https://colab.research.google.com/github/itinasharma/MachineLearning/blob/main/Decision_Tree.ipynb\" target=\"_parent\"><img src=\"https://colab.research.google.com/assets/colab-badge.svg\" alt=\"Open In Colab\"/></a>"
      ]
    },
    {
      "cell_type": "code",
      "source": [
        "# Install graphviz if needed (this step is usually run in a separate shell)\n",
        "!apt-get install -y graphviz\n",
        "!pip install graphviz\n",
        "\n",
        "# Import necessary libraries\n",
        "from sklearn import tree\n",
        "\n",
        "# Create the Decision Tree Classifier\n",
        "clf = tree.DecisionTreeClassifier()\n",
        "\n",
        "# Training data: [height, hair-length, voice-pitch]\n",
        "X = [[180, 15, 0],\n",
        "     [167, 42, 1],\n",
        "     [136, 35, 1],\n",
        "     [174, 15, 0],\n",
        "     [141, 28, 1]]\n",
        "\n",
        "Y = ['man', 'woman', 'woman', 'man', 'woman']\n",
        "\n",
        "# Fit the model\n",
        "clf = clf.fit(X, Y)\n",
        "\n",
        "# Make a prediction\n",
        "prediction = clf.predict([[133, 37, 1]])\n",
        "print(prediction)\n",
        "\n"
      ],
      "metadata": {
        "colab": {
          "base_uri": "https://localhost:8080/"
        },
        "id": "8bLBpQXOXFQh",
        "outputId": "c1b8fec2-5586-4af3-f1bc-cac52ae56cea"
      },
      "execution_count": 13,
      "outputs": [
        {
          "output_type": "stream",
          "name": "stdout",
          "text": [
            "Reading package lists... Done\n",
            "Building dependency tree... Done\n",
            "Reading state information... Done\n",
            "graphviz is already the newest version (2.42.2-6ubuntu0.1).\n",
            "0 upgraded, 0 newly installed, 0 to remove and 49 not upgraded.\n",
            "Requirement already satisfied: graphviz in /usr/local/lib/python3.10/dist-packages (0.20.3)\n",
            "['woman']\n"
          ]
        }
      ]
    },
    {
      "cell_type": "code",
      "source": [
        "import graphviz\n",
        "\n",
        "dot_data = tree.export_graphviz(clf, out_file=None,\n",
        "                                 feature_names=['height', 'hair-length', 'voice-pitch'],\n",
        "                                 class_names=['man', 'woman'],\n",
        "                                 filled=True, rounded=True,\n",
        "                                 special_characters=True)\n",
        "graph = graphviz.Source(dot_data)\n",
        "graph.render(\"decision_tree\")  # Saves the tree to a file called decision_tree.pdf\n",
        "graph.view()  # Opens the file\n"
      ],
      "metadata": {
        "colab": {
          "base_uri": "https://localhost:8080/",
          "height": 36
        },
        "id": "StVsPPUuXxnO",
        "outputId": "045b327b-7f21-4331-b22e-b8806aa6675a"
      },
      "execution_count": 14,
      "outputs": [
        {
          "output_type": "execute_result",
          "data": {
            "text/plain": [
              "'decision_tree.pdf'"
            ],
            "application/vnd.google.colaboratory.intrinsic+json": {
              "type": "string"
            }
          },
          "metadata": {},
          "execution_count": 14
        }
      ]
    },
    {
      "cell_type": "code",
      "source": [
        "from sklearn import tree\n",
        "\n",
        "x_train = [[0.7,0.52], [0.8,0.6], [1.0,0.68]]\n",
        "y_train = [[1.08], [1.25], [1.85]]\n",
        "\n",
        "reg = tree.DecisionTreeRegressor()\n",
        "\n",
        "reg = reg.fit(x_train, y_train)\n",
        "\n",
        "y_pred = reg.predict([[1.1,0.63]])\n",
        "print(y_pred)"
      ],
      "metadata": {
        "colab": {
          "base_uri": "https://localhost:8080/"
        },
        "id": "LdTrzRFVZ7gM",
        "outputId": "4a9853a6-dbb1-4800-f83b-ae07d56e6394"
      },
      "execution_count": 15,
      "outputs": [
        {
          "output_type": "stream",
          "name": "stdout",
          "text": [
            "[1.25]\n"
          ]
        }
      ]
    }
  ]
}
